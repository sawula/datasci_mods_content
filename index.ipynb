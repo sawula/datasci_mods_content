{
 "cells": [
  {
   "cell_type": "markdown",
   "id": "5d2b86f3-9db1-4080-9e06-e57a652e1d7c",
   "metadata": {},
   "source": [
    "[Lesson 00 b0](notebooks/Lesson%00%b0.ipynb)\n","\n",
    "[Lesson 00 b1](notebooks/Lesson%00%b1.ipynb)\n","\n",
    "[Lesson 00 b2](notebooks/Lesson%00%b2.ipynb)\n","\n",
    "[Lesson 00 b3](notebooks/Lesson%00%b3.ipynb)\n","\n",
    "[Lesson 01 a0](notebooks/Lesson%01%a0.ipynb)\n","\n",
    "[Lesson 01 a1](notebooks/Lesson%01%a1.ipynb)\n","\n",
    "[Lesson 01 a2](notebooks/Lesson%01%a2.ipynb)\n","\n",
    "[Lesson 01 a3](notebooks/Lesson%01%a3.ipynb)\n","\n",
    "[Lesson 02 a](notebooks/Lesson%02%a.ipynb)\n","\n",
    "[Lesson 02 b](notebooks/Lesson%02%b.ipynb)\n","\n",
    "[Lesson 02 c](notebooks/Lesson%02%c.ipynb)"
   ]
  }
 ],
 "metadata": {
  "kernelspec": {
   "display_name": "Python 3",
   "language": "python",
   "name": "python3"
  },
  "language_info": {
   "codemirror_mode": {
    "name": "ipython",
    "version": 3
   },
   "file_extension": ".py",
   "mimetype": "text/x-python",
   "name": "python",
   "nbconvert_exporter": "python",
   "pygments_lexer": "ipython3",
   "version": "3.8.10"
  }
 },
 "nbformat": 4,
 "nbformat_minor": 5
}
