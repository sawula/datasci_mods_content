{
 "cells": [
  {
   "cell_type": "markdown",
   "id": "5d2b86f3-9db1-4080-9e06-e57a652e1d7c",
   "metadata": {},
   "source": [
    "[Lesson 00 b0](notebooks/Lesson%2000%20b0.ipynb)\n","\n",
    "[Lesson 00 b1](notebooks/Lesson%2000%20b1.ipynb)\n","\n",
    "[Lesson 00 b2](notebooks/Lesson%2000%20b2.ipynb)\n","\n",
    "[Lesson 00 b3](notebooks/Lesson%2000%20b3.ipynb)\n","\n",
    "[Lesson 01 a0](notebooks/Lesson%2001%20a0.ipynb)\n","\n",
    "[Lesson 01 a1](notebooks/Lesson%2001%20a1.ipynb)\n","\n",
    "[Lesson 01 a2](notebooks/Lesson%2001%20a2.ipynb)\n","\n",
    "[Lesson 01 a3](notebooks/Lesson%2001%20a3.ipynb)\n","\n",
    "[Lesson 02 a](notebooks/Lesson%2002%20a.ipynb)\n","\n",
    "[Lesson 02 b](notebooks/Lesson%2002%20b.ipynb)\n","\n",
    "[Lesson 02 c](notebooks/Lesson%2002%20c.ipynb)"
   ]
  }
 ],
 "metadata": {
  "kernelspec": {
   "display_name": "Python 3",
   "language": "python",
   "name": "python3"
  },
  "language_info": {
   "codemirror_mode": {
    "name": "ipython",
    "version": 3
   },
   "file_extension": ".py",
   "mimetype": "text/x-python",
   "name": "python",
   "nbconvert_exporter": "python",
   "pygments_lexer": "ipython3",
   "version": "3.8.10"
  }
 },
 "nbformat": 4,
 "nbformat_minor": 5
}
