{
 "cells": [
  {
   "cell_type": "markdown",
   "id": "6cf56a1e",
   "metadata": {},
   "source": [
    "### Getting to know `rect()`"
   ]
  },
  {
   "cell_type": "markdown",
   "id": "2e80460a",
   "metadata": {},
   "source": [
    "**NOTE:** Remember to make a copy of this notebook outside the `Shared` folder first."
   ]
  },
  {
   "cell_type": "markdown",
   "id": "e2f06ec2",
   "metadata": {},
   "source": [
    "The following code\n",
    "* creates a drawing window that is 300 pixels wide by 200 pixels tall\n",
    "* draws a rectangle inside that window"
   ]
  },
  {
   "cell_type": "code",
   "execution_count": 2,
   "id": "fea9b3f6",
   "metadata": {},
   "outputs": [
    {
     "data": {
      "image/png": "[encoded data removed]",
      "text/plain": [
       "<IPython.core.display.Image object>"
      ]
     },
     "metadata": {},
     "output_type": "display_data"
    }
   ],
   "source": [
    "%%py5draw 300 200\n",
    "rect(100,50,30,60)"
   ]
  },
  {
   "cell_type": "markdown",
   "id": "8b397c9c",
   "metadata": {},
   "source": [
    "What do the numbers in `rect(100,50,30,60)` represent?  \n",
    "\n",
    "Change the numbers inside `rect()` to explore. You will probably find it helpful to focus on one at a time.  "
   ]
  },
  {
   "cell_type": "markdown",
   "id": "0cfb7bb8",
   "metadata": {},
   "source": [
    "You can check what you discovered [here](https://py.processing.org/reference/rect.html).  Explore first--don't deprive yourself of the joy of discovery!  \n",
    "\n",
    "Oh--there's a question in a Canvas quiz to check what you figured out."
   ]
  },
  {
   "cell_type": "code",
   "execution_count": null,
   "id": "f31333a5",
   "metadata": {},
   "outputs": [],
   "source": []
  }
 ],
 "metadata": {
  "kernelspec": {
   "display_name": "py5",
   "language": "python",
   "name": "py5"
  },
  "language_info": {
   "codemirror_mode": {
    "name": "ipython",
    "version": 3
   },
   "file_extension": ".py",
   "mimetype": "text/x-python",
   "name": "python",
   "nbconvert_exporter": "python",
   "pygments_lexer": "ipython3",
   "version": "3.8.10"
  }
 },
 "nbformat": 4,
 "nbformat_minor": 5
}
