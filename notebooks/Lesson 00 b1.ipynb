{
 "cells": [
  {
   "cell_type": "markdown",
   "id": "5bbc9125",
   "metadata": {},
   "source": [
    "### Let's add some colors!"
   ]
  },
  {
   "cell_type": "markdown",
   "id": "e1b2ce84",
   "metadata": {},
   "source": [
    "**NOTE:** \n",
    "* A `#` symbol turns what follows on that line into a *comment*. \n",
    "* Comments don't execute. \n",
    "* To run a line that has been commented out, remove the `#` and run the cell."
   ]
  },
  {
   "cell_type": "markdown",
   "id": "c4bf1f53",
   "metadata": {},
   "source": [
    "-----\n",
    "### A. One `background()` at a time\n",
    "\n",
    "At first, try running these lines one at a time (by un-commenting one line at a time)."
   ]
  },
  {
   "cell_type": "code",
   "execution_count": null,
   "id": "c8da60ce",
   "metadata": {},
   "outputs": [],
   "source": [
    "%%py5draw 200 200\n",
    "\n",
    "#background(255,0,0)\n",
    "#background(0,255,0)\n",
    "#background(0,0,255)"
   ]
  },
  {
   "cell_type": "markdown",
   "id": "794e2a94",
   "metadata": {},
   "source": [
    "In `background(a,b,c)` what do `a`, `b`, and `c` represent?"
   ]
  },
  {
   "cell_type": "markdown",
   "id": "5e7cfbe5",
   "metadata": {},
   "source": [
    "Again, you should be able to sort this out on your own.  If you are getting frustrated, [here](https://py.processing.org/reference/background.html) is an explanation."
   ]
  },
  {
   "cell_type": "markdown",
   "id": "2a7c41a2",
   "metadata": {},
   "source": [
    "--------\n",
    "### B. Multiple `background()`s"
   ]
  },
  {
   "cell_type": "markdown",
   "id": "bf14b06a",
   "metadata": {},
   "source": [
    "Can you predict the output for the following cell?"
   ]
  },
  {
   "cell_type": "code",
   "execution_count": null,
   "id": "3efde453",
   "metadata": {},
   "outputs": [],
   "source": [
    "%%py5draw 200 200\n",
    "background(255,0,0)\n",
    "background(0,0,255)"
   ]
  },
  {
   "cell_type": "markdown",
   "id": "2a0034cf",
   "metadata": {},
   "source": [
    "Was it what you expected?  \n",
    "\n",
    "Now try to predict the output for this cell."
   ]
  },
  {
   "cell_type": "code",
   "execution_count": null,
   "id": "ed86bb12",
   "metadata": {},
   "outputs": [],
   "source": [
    "%%py5draw 200 200\n",
    "background(255,0,0)\n",
    "background(0,0,255)\n",
    "background(0,255,0)"
   ]
  },
  {
   "cell_type": "markdown",
   "id": "f1b1a82f",
   "metadata": {},
   "source": [
    "What's going on? "
   ]
  },
  {
   "cell_type": "markdown",
   "id": "a68e33bf",
   "metadata": {},
   "source": [
    "--------------\n",
    "### C. Mixing colors\n",
    "\n",
    "Try to predict the colors for the following.  Then run the cells to see whether you were right."
   ]
  },
  {
   "cell_type": "code",
   "execution_count": null,
   "id": "f90bda94",
   "metadata": {},
   "outputs": [],
   "source": [
    "%%py5data 200 200\n",
    "background(255,0,255)"
   ]
  },
  {
   "cell_type": "code",
   "execution_count": null,
   "id": "688b8c9a",
   "metadata": {},
   "outputs": [],
   "source": [
    "%%py5data 200 200\n",
    "background(255,255,0)"
   ]
  },
  {
   "cell_type": "code",
   "execution_count": null,
   "id": "777a1a56",
   "metadata": {},
   "outputs": [],
   "source": [
    "%%py5data 200 200\n",
    "background(0,255,255)"
   ]
  },
  {
   "cell_type": "markdown",
   "id": "b880254e",
   "metadata": {},
   "source": [
    "Any surprises?\n",
    "\n",
    "Now try these.  Remember to try to predict the output before running the cell."
   ]
  },
  {
   "cell_type": "code",
   "execution_count": null,
   "id": "63dea92a",
   "metadata": {},
   "outputs": [],
   "source": [
    "%%py5data 200 200\n",
    "background(255,255,255)"
   ]
  },
  {
   "cell_type": "code",
   "execution_count": null,
   "id": "97292b13",
   "metadata": {},
   "outputs": [],
   "source": [
    "%%py5data 200 200\n",
    "background(0,0,0)"
   ]
  },
  {
   "cell_type": "markdown",
   "id": "f91e4bc9",
   "metadata": {},
   "source": [
    "You can create output in grayscale when you use only one number."
   ]
  },
  {
   "cell_type": "code",
   "execution_count": null,
   "id": "f9fe5ab0",
   "metadata": {},
   "outputs": [],
   "source": [
    "%%py5data 200 200\n",
    "background(100)"
   ]
  },
  {
   "cell_type": "markdown",
   "id": "66b3dab3",
   "metadata": {},
   "source": [
    "--------------\n",
    "### D. You pick a color\n",
    "\n",
    "Using [Google's color picker](https://www.google.com/search?q=color+picker)\n",
    "\n",
    "* adjust the controls to find a color that you like\n",
    "* copy the numbers in the RBG box at the bottom left\n",
    "* paste these numbers into the background() command below"
   ]
  },
  {
   "cell_type": "code",
   "execution_count": null,
   "id": "66d2edde",
   "metadata": {},
   "outputs": [],
   "source": [
    "%%py5draw 200 200\n",
    "background(put your numbers here!)"
   ]
  },
  {
   "cell_type": "markdown",
   "id": "73f68b5e",
   "metadata": {},
   "source": [
    "Amazing!"
   ]
  },
  {
   "cell_type": "markdown",
   "id": "249f1124",
   "metadata": {},
   "source": [
    "--------\n",
    "There's a quiz on Canvas associated with these."
   ]
  },
  {
   "cell_type": "code",
   "execution_count": null,
   "id": "810826af",
   "metadata": {},
   "outputs": [],
   "source": []
  }
 ],
 "metadata": {
  "kernelspec": {
   "display_name": "py5",
   "language": "python",
   "name": "py5"
  },
  "language_info": {
   "codemirror_mode": {
    "name": "ipython",
    "version": 3
   },
   "file_extension": ".py",
   "mimetype": "text/x-python",
   "name": "python",
   "nbconvert_exporter": "python",
   "pygments_lexer": "ipython3",
   "version": "3.8.10"
  }
 },
 "nbformat": 4,
 "nbformat_minor": 5
}
