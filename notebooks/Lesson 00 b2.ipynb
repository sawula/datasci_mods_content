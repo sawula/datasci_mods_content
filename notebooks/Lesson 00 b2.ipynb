{
 "cells": [
  {
   "cell_type": "markdown",
   "id": "a3d914be",
   "metadata": {},
   "source": [
    "### Things Python cares about\n",
    "\n",
    "Only two of these cells will run properly.  \n",
    "\n",
    "Before trying to run them, can you tell which ones they are?  \n",
    "\n",
    "Can you identify the problem with the others?  Again, the last line of the error messages is the most helpful."
   ]
  },
  {
   "cell_type": "code",
   "execution_count": null,
   "id": "a139c931",
   "metadata": {},
   "outputs": [],
   "source": [
    "%%py5draw 200 200\n",
    "Background(0,255,0)"
   ]
  },
  {
   "cell_type": "code",
   "execution_count": null,
   "id": "a62d45fd",
   "metadata": {},
   "outputs": [],
   "source": [
    "%%py5draw 200 200\n",
    "backGround(0,255,0)"
   ]
  },
  {
   "cell_type": "code",
   "execution_count": null,
   "id": "c9222834",
   "metadata": {},
   "outputs": [],
   "source": [
    "%%py5draw 200 200\n",
    "    background(0,255,0)"
   ]
  },
  {
   "cell_type": "code",
   "execution_count": null,
   "id": "88d9d1ea",
   "metadata": {},
   "outputs": [],
   "source": [
    "%%py5draw 200 200\n",
    "background(0,255,0)"
   ]
  },
  {
   "cell_type": "code",
   "execution_count": null,
   "id": "13ac749d",
   "metadata": {},
   "outputs": [],
   "source": [
    "%%py5draw 200 200\n",
    "back ground(0,255,0)"
   ]
  },
  {
   "cell_type": "code",
   "execution_count": null,
   "id": "dbfe6ff7",
   "metadata": {},
   "outputs": [],
   "source": [
    "%%py5draw 200 200\n",
    "background ( 0 , 255 , 0 )"
   ]
  },
  {
   "cell_type": "code",
   "execution_count": null,
   "id": "1a5b0807",
   "metadata": {},
   "outputs": [],
   "source": [
    "%%py5draw 200 200\n",
    "background (0 ,255, tiger)"
   ]
  }
 ],
 "metadata": {
  "kernelspec": {
   "display_name": "py5",
   "language": "python",
   "name": "py5"
  },
  "language_info": {
   "codemirror_mode": {
    "name": "ipython",
    "version": 3
   },
   "file_extension": ".py",
   "mimetype": "text/x-python",
   "name": "python",
   "nbconvert_exporter": "python",
   "pygments_lexer": "ipython3",
   "version": "3.8.10"
  }
 },
 "nbformat": 4,
 "nbformat_minor": 5
}
