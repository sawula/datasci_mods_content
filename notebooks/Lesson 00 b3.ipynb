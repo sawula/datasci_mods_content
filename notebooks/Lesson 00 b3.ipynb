{
 "cells": [
  {
   "cell_type": "markdown",
   "id": "8a1c742e",
   "metadata": {},
   "source": [
    "----------------------------\n",
    "### A. Meet `fill()`"
   ]
  },
  {
   "cell_type": "markdown",
   "id": "b879a94f",
   "metadata": {},
   "source": [
    "The following cell draws a yellow square on a blue background."
   ]
  },
  {
   "cell_type": "code",
   "execution_count": 1,
   "id": "b67f311b",
   "metadata": {},
   "outputs": [
    {
     "data": {
      "image/png": "[encoded data removed]",
      "text/plain": [
       "<IPython.core.display.Image object>"
      ]
     },
     "metadata": {},
     "output_type": "display_data"
    }
   ],
   "source": [
    "%%py5draw 200 200\n",
    "background(0,0,255)\n",
    "fill(255,255,0)\n",
    "rect(0,0,100,100)"
   ]
  },
  {
   "cell_type": "markdown",
   "id": "df80c684",
   "metadata": {},
   "source": [
    "Can you tell what `fill(255,255,0)` is doing?\n",
    "\n",
    "Try to predict the output of the following cells before you run them."
   ]
  },
  {
   "cell_type": "code",
   "execution_count": null,
   "id": "3d433338",
   "metadata": {},
   "outputs": [],
   "source": [
    "%%py5draw 200 200\n",
    "fill(255,255,0)\n",
    "rect(0,0,100,100)\n",
    "background(0,0,255)"
   ]
  },
  {
   "cell_type": "code",
   "execution_count": null,
   "id": "d99050c5",
   "metadata": {},
   "outputs": [],
   "source": [
    "%%py5draw 200 200\n",
    "background(0,0,255)\n",
    "rect(0,0,100,100)\n",
    "fill(255,255,0)"
   ]
  },
  {
   "cell_type": "markdown",
   "id": "98263b4d",
   "metadata": {},
   "source": [
    "Can you explain the outputs in terms of the order of the lines?"
   ]
  },
  {
   "cell_type": "markdown",
   "id": "30f50e15",
   "metadata": {},
   "source": [
    "btw, the documentation for `fill()` is [here](https://py5.ixora.io/reference/fill/)"
   ]
  },
  {
   "cell_type": "markdown",
   "id": "b090dc91",
   "metadata": {},
   "source": [
    "--------------------------------\n",
    "### B. `background()`, `rect()`, & `fill()` together!"
   ]
  },
  {
   "cell_type": "markdown",
   "id": "afaf71f2",
   "metadata": {},
   "source": [
    "Time to read some code and then adapt it to do something similar!\n",
    "\n",
    "At this point, you should be able to follow this code:"
   ]
  },
  {
   "cell_type": "code",
   "execution_count": null,
   "id": "cebd8d99",
   "metadata": {},
   "outputs": [],
   "source": [
    "%%py5draw 200 200\n",
    "\n",
    "background(150,250,250)\n",
    "\n",
    "fill(255,0,255)\n",
    "rect(50,50,50,50)\n",
    "\n",
    "fill(255,255,0)\n",
    "rect(75,75,50,50)\n",
    "\n",
    "fill(0,255,0)\n",
    "rect(100,100,50,50)"
   ]
  },
  {
   "attachments": {
    "ds0_8.png": {
     "image/png": "[encoded data removed]"
    }
   },
   "cell_type": "markdown",
   "id": "32b48db5",
   "metadata": {},
   "source": [
    "Now write your own code to produce the image below.  You could carefully plan this out and get it right the first time.  It's also fine to guess and check.  Whatever you like!\n",
    "\n",
    "![ds0_8.png](attachment:ds0_8.png)"
   ]
  },
  {
   "cell_type": "markdown",
   "id": "fcedb7ec",
   "metadata": {},
   "source": [
    "---------------------\n",
    "After you've successfully produced this figure, upload a pdf of your notebook to Canvas."
   ]
  },
  {
   "cell_type": "code",
   "execution_count": null,
   "id": "cbc78652",
   "metadata": {},
   "outputs": [],
   "source": []
  }
 ],
 "metadata": {
  "kernelspec": {
   "display_name": "py5",
   "language": "python",
   "name": "py5"
  },
  "language_info": {
   "codemirror_mode": {
    "name": "ipython",
    "version": 3
   },
   "file_extension": ".py",
   "mimetype": "text/x-python",
   "name": "python",
   "nbconvert_exporter": "python",
   "pygments_lexer": "ipython3",
   "version": "3.8.10"
  }
 },
 "nbformat": 4,
 "nbformat_minor": 5
}
