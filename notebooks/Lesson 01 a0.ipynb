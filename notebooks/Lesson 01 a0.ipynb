{
 "cells": [
  {
   "cell_type": "markdown",
   "id": "d69361d1",
   "metadata": {},
   "source": [
    "## Thinking about areas\n",
    "\n",
    "### A. Example\n",
    "In the figure below, it's fairly obvious that the yellow square has one-fourth the area of the larger square. Meanwhile the side lengths of the yellow square (100) are one-half those of the larger square (200)."
   ]
  },
  {
   "cell_type": "code",
   "execution_count": 1,
   "id": "2d707845",
   "metadata": {},
   "outputs": [
    {
     "data": {
      "image/png": "[encoded data removed]",
      "text/plain": [
       "<IPython.core.display.Image object>"
      ]
     },
     "metadata": {},
     "output_type": "display_data"
    }
   ],
   "source": [
    "%%py5draw 200 200\n",
    "background(0,0,255)\n",
    "fill(255,255,0)\n",
    "rect(0,0,100,100)"
   ]
  },
  {
   "cell_type": "markdown",
   "id": "9f5e8524",
   "metadata": {},
   "source": [
    "You could write this relationship this way:\n",
    "\n",
    "$$\n",
    "\\frac{Area_{\\text{small square}}}{Area_{\\text{large square}}}=\\frac{\\left(Side_\\text{small square}\\right)^2}{\\left(Side_\\text{large square}\\right)^2}=\\frac{100^2}{200^2}=\\left(\\frac{100}{200}\\right)^2=\\left(\\frac{1}{2}\\right)^2=\\frac{1}{4}\n",
    "$$\n",
    "\n",
    "You probably see the pattern without all of these steps!"
   ]
  },
  {
   "cell_type": "markdown",
   "id": "c2cf91e5",
   "metadata": {},
   "source": [
    "### B. You try it\n",
    "\n",
    "Before running the cell below, consider the squares produced by its code.  Try to predict the ratio of their areas.  "
   ]
  },
  {
   "cell_type": "code",
   "execution_count": null,
   "id": "8be41d04",
   "metadata": {},
   "outputs": [],
   "source": [
    "%%py5draw 210 210\n",
    "background(0,0,255)\n",
    "fill(255,255,0)\n",
    "rect(0,0,70,70)"
   ]
  },
  {
   "cell_type": "markdown",
   "id": "8f531b13",
   "metadata": {},
   "source": [
    "### C. Generalize"
   ]
  },
  {
   "cell_type": "markdown",
   "id": "28784c9c",
   "metadata": {},
   "source": [
    "Complete the following:  "
   ]
  },
  {
   "cell_type": "markdown",
   "id": "2714ce19",
   "metadata": {},
   "source": [
    "------------------\n",
    "#### 1.\n",
    "If square $A$ has sides of length $a$, and square $B$ has sides of length $b$, then\n",
    "\n",
    "$$\n",
    "\\frac{Area_A}{Area_B} = \\,?\n",
    "$$"
   ]
  },
  {
   "cell_type": "markdown",
   "id": "aff4bf71",
   "metadata": {},
   "source": [
    "------------------------\n",
    "#### 2. \n",
    "Remember that\n",
    "$$\n",
    "\\frac{Area_{\\text{small square}}}{Area_{\\text{large square}}}=\\frac{\\left(Side_\\text{small square}\\right)^2}{\\left(Side_\\text{large square}\\right)^2}\n",
    "$$\n",
    "Complete\n",
    "$$\n",
    "\\frac{Side_\\text{small square}}{Side_\\text{large square}} = ?\n",
    "$$"
   ]
  },
  {
   "cell_type": "markdown",
   "id": "e7530b36",
   "metadata": {},
   "source": [
    "-------------------------\n",
    "There's a quick Canvas quiz on these questions. "
   ]
  },
  {
   "cell_type": "code",
   "execution_count": null,
   "id": "b89f220c",
   "metadata": {},
   "outputs": [],
   "source": []
  }
 ],
 "metadata": {
  "kernelspec": {
   "display_name": "py5",
   "language": "python",
   "name": "py5"
  },
  "language_info": {
   "codemirror_mode": {
    "name": "ipython",
    "version": 3
   },
   "file_extension": ".py",
   "mimetype": "text/x-python",
   "name": "python",
   "nbconvert_exporter": "python",
   "pygments_lexer": "ipython3",
   "version": "3.8.10"
  }
 },
 "nbformat": 4,
 "nbformat_minor": 5
}
