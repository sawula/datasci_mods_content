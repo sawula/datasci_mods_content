{
 "cells": [
  {
   "cell_type": "markdown",
   "id": "125c40c6",
   "metadata": {},
   "source": [
    "## Half the area\n",
    "\n",
    "Now try to draw a yellow square which has one-half the area of the blue square.  Check your work by calculating the area of each square and dividing the smaller area into the larger area.\n",
    "\n",
    "**Note:**  you may want to use `sqrt()` from the `math` library at some point.  If that is confusing to you, you could guess-and-check.  It will take you longer."
   ]
  },
  {
   "cell_type": "code",
   "execution_count": null,
   "id": "b4b014dc",
   "metadata": {},
   "outputs": [],
   "source": [
    "from math import sqrt"
   ]
  },
  {
   "cell_type": "code",
   "execution_count": null,
   "id": "629192f3",
   "metadata": {},
   "outputs": [],
   "source": [
    "%%py5draw 200 200\n",
    "\n",
    "a= # <--put your answer to the left of the #!\n",
    "\n",
    "fill (255,255,0)\n",
    "rect(0,0,a,a)"
   ]
  },
  {
   "cell_type": "markdown",
   "id": "4ca7811e",
   "metadata": {},
   "source": [
    "Submit a pdf of your work on Canvas when you are done."
   ]
  },
  {
   "cell_type": "code",
   "execution_count": null,
   "id": "3ce512bc",
   "metadata": {},
   "outputs": [],
   "source": []
  }
 ],
 "metadata": {
  "kernelspec": {
   "display_name": "py5",
   "language": "python",
   "name": "py5"
  },
  "language_info": {
   "codemirror_mode": {
    "name": "ipython",
    "version": 3
   },
   "file_extension": ".py",
   "mimetype": "text/x-python",
   "name": "python",
   "nbconvert_exporter": "python",
   "pygments_lexer": "ipython3",
   "version": "3.8.10"
  }
 },
 "nbformat": 4,
 "nbformat_minor": 5
}
