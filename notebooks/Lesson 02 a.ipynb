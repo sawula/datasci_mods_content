{
 "cells": [
  {
   "cell_type": "markdown",
   "id": "6f0b524e",
   "metadata": {},
   "source": [
    "## 1. Lists"
   ]
  },
  {
   "cell_type": "markdown",
   "id": "eac50113",
   "metadata": {},
   "source": [
    "So far we've been graphing each data point separately with its own lines of code.  Obviously this would be onerous with datasets of hundreds or even thousands of entries.\n",
    "\n",
    "This takes us to our next topics: data structures and iteration.  \n",
    "\n",
    "In Python, the place to start with data structures is lists, even though for most of our work we won't be using lists.  Still, lists are the best place to start.\n",
    "\n",
    "Lists are just *items* in an order.  They are listed (!) inside square brackets `[]`.  These items are sometimes also called *elements*."
   ]
  },
  {
   "cell_type": "markdown",
   "id": "c0cf45cb",
   "metadata": {},
   "source": [
    "### 1.1 What can be in a list?"
   ]
  },
  {
   "cell_type": "markdown",
   "id": "94c60d13",
   "metadata": {},
   "source": [
    "The items could be *integers*."
   ]
  },
  {
   "cell_type": "code",
   "execution_count": 5,
   "id": "d82756fd",
   "metadata": {},
   "outputs": [
    {
     "data": {
      "text/plain": [
       "(list, int)"
      ]
     },
     "execution_count": 5,
     "metadata": {},
     "output_type": "execute_result"
    }
   ],
   "source": [
    "a = [1,2,3,4]\n",
    "type(a), type(1)"
   ]
  },
  {
   "cell_type": "markdown",
   "id": "9a1855d9",
   "metadata": {},
   "source": [
    "The items could be *floating point* numbers."
   ]
  },
  {
   "cell_type": "code",
   "execution_count": 7,
   "id": "ca7572aa",
   "metadata": {},
   "outputs": [
    {
     "data": {
      "text/plain": [
       "(list, float)"
      ]
     },
     "execution_count": 7,
     "metadata": {},
     "output_type": "execute_result"
    }
   ],
   "source": [
    "b = [1.5, 2.5, 3.5, 4.5]\n",
    "type(b), type(1.5)"
   ]
  },
  {
   "cell_type": "markdown",
   "id": "80f0b10f",
   "metadata": {},
   "source": [
    "The items could be *strings*."
   ]
  },
  {
   "cell_type": "code",
   "execution_count": 8,
   "id": "faf850b7",
   "metadata": {},
   "outputs": [
    {
     "data": {
      "text/plain": [
       "(list, str)"
      ]
     },
     "execution_count": 8,
     "metadata": {},
     "output_type": "execute_result"
    }
   ],
   "source": [
    "c = ['dog','cat','horse','pig']\n",
    "type(c), type('dog')"
   ]
  },
  {
   "cell_type": "markdown",
   "id": "04142f61",
   "metadata": {},
   "source": [
    "The items could be of a mixture of types: integers, floats, strings, even other lists."
   ]
  },
  {
   "cell_type": "code",
   "execution_count": 9,
   "id": "446fa8ec",
   "metadata": {},
   "outputs": [
    {
     "name": "stdout",
     "output_type": "stream",
     "text": [
      "[1, 2.5, 'horse', [1, 2, 3, 4]]\n"
     ]
    }
   ],
   "source": [
    "d =  [1, 2.5, 'horse', a]\n",
    "print(d)"
   ]
  },
  {
   "cell_type": "markdown",
   "id": "a7ddeb0b",
   "metadata": {},
   "source": [
    "This flexibility makes Python's lists convenient but also inefficient.  "
   ]
  },
  {
   "cell_type": "markdown",
   "id": "ac161ac5",
   "metadata": {},
   "source": [
    "### 1.2 Accessing items in a list by indexing"
   ]
  },
  {
   "cell_type": "markdown",
   "id": "7692a2cc",
   "metadata": {},
   "source": [
    "One way to access the items of a list is by index using square brackets. The first item is indexed as `0`."
   ]
  },
  {
   "cell_type": "code",
   "execution_count": 10,
   "id": "c604f3f7",
   "metadata": {},
   "outputs": [
    {
     "data": {
      "text/plain": [
       "1"
      ]
     },
     "execution_count": 10,
     "metadata": {},
     "output_type": "execute_result"
    }
   ],
   "source": [
    "d[0]"
   ]
  },
  {
   "cell_type": "code",
   "execution_count": 11,
   "id": "dba32f85",
   "metadata": {},
   "outputs": [
    {
     "data": {
      "text/plain": [
       "2.5"
      ]
     },
     "execution_count": 11,
     "metadata": {},
     "output_type": "execute_result"
    }
   ],
   "source": [
    "d[1]"
   ]
  },
  {
   "cell_type": "code",
   "execution_count": 12,
   "id": "f3c87f81",
   "metadata": {},
   "outputs": [
    {
     "data": {
      "text/plain": [
       "'horse'"
      ]
     },
     "execution_count": 12,
     "metadata": {},
     "output_type": "execute_result"
    }
   ],
   "source": [
    "d[2]"
   ]
  },
  {
   "cell_type": "code",
   "execution_count": 13,
   "id": "accf5bd3",
   "metadata": {},
   "outputs": [
    {
     "data": {
      "text/plain": [
       "[1, 2, 3, 4]"
      ]
     },
     "execution_count": 13,
     "metadata": {},
     "output_type": "execute_result"
    }
   ],
   "source": [
    "d[3]"
   ]
  },
  {
   "cell_type": "markdown",
   "id": "2bbe6470",
   "metadata": {},
   "source": [
    "If the item is itself a list, that can be indexed as well!"
   ]
  },
  {
   "cell_type": "code",
   "execution_count": 14,
   "id": "98b8465b",
   "metadata": {},
   "outputs": [
    {
     "data": {
      "text/plain": [
       "2"
      ]
     },
     "execution_count": 14,
     "metadata": {},
     "output_type": "execute_result"
    }
   ],
   "source": [
    "d[3][1]"
   ]
  },
  {
   "cell_type": "markdown",
   "id": "1da66e92",
   "metadata": {},
   "source": [
    "By the way, a list which is an element of another list is said to be *nested* inside it."
   ]
  },
  {
   "cell_type": "markdown",
   "id": "a6b8e4c4",
   "metadata": {},
   "source": [
    "### 1.3 You try it!"
   ]
  },
  {
   "cell_type": "markdown",
   "id": "bd9cc73e",
   "metadata": {},
   "source": [
    "**You try it.** Using indexing and square brackets and the list below, create the list `['b', 'e', 5, 4]`."
   ]
  },
  {
   "cell_type": "code",
   "execution_count": 15,
   "id": "4d8e9a2c",
   "metadata": {},
   "outputs": [],
   "source": [
    "e = [['a','b','c','d'],['e','f','g','h'],[1,2,3,4],[5,6,7,8]]"
   ]
  },
  {
   "cell_type": "markdown",
   "id": "9cc0d720",
   "metadata": {},
   "source": [
    "### 1.4 List functions, operators, methods\n",
    "\n",
    "Here are some common 'things' you can do with a list."
   ]
  },
  {
   "cell_type": "code",
   "execution_count": null,
   "id": "26ccf3e1",
   "metadata": {},
   "outputs": [],
   "source": [
    "a = [100, 200, 300]\n",
    "b = ['red', 'white', 'blue']"
   ]
  },
  {
   "cell_type": "markdown",
   "id": "88860d4b",
   "metadata": {},
   "source": [
    "#### 1.4.1 \"Functions\""
   ]
  },
  {
   "cell_type": "code",
   "execution_count": null,
   "id": "c952fc1b",
   "metadata": {},
   "outputs": [],
   "source": [
    "type(a)"
   ]
  },
  {
   "cell_type": "code",
   "execution_count": null,
   "id": "246e91a2",
   "metadata": {},
   "outputs": [],
   "source": [
    "len(a)"
   ]
  },
  {
   "cell_type": "code",
   "execution_count": null,
   "id": "9365f072",
   "metadata": {},
   "outputs": [],
   "source": [
    "sum(a)"
   ]
  },
  {
   "cell_type": "code",
   "execution_count": null,
   "id": "f5f3e59b",
   "metadata": {},
   "outputs": [],
   "source": [
    "sum(b)"
   ]
  },
  {
   "cell_type": "code",
   "execution_count": null,
   "id": "63e22b4b",
   "metadata": {},
   "outputs": [],
   "source": [
    "print(a)"
   ]
  },
  {
   "cell_type": "markdown",
   "id": "e9354b34",
   "metadata": {},
   "source": [
    "#### 1.4.2 Operators"
   ]
  },
  {
   "cell_type": "markdown",
   "id": "c4919dbc",
   "metadata": {},
   "source": [
    "`list1 + list2` produces a third list in which the elements of the first are followed by those of the second. The two lists are said to have been *concatenated*."
   ]
  },
  {
   "cell_type": "code",
   "execution_count": null,
   "id": "f7bb1654",
   "metadata": {},
   "outputs": [],
   "source": [
    "a+b"
   ]
  },
  {
   "cell_type": "markdown",
   "id": "0ac4220f",
   "metadata": {},
   "source": [
    "`list1 * 3` repeats a list three times."
   ]
  },
  {
   "cell_type": "code",
   "execution_count": null,
   "id": "2c10a1a1",
   "metadata": {},
   "outputs": [],
   "source": [
    "a * 3"
   ]
  },
  {
   "cell_type": "markdown",
   "id": "f3618919",
   "metadata": {},
   "source": [
    "#### 1.4.3 Methods"
   ]
  },
  {
   "cell_type": "code",
   "execution_count": null,
   "id": "96149c37",
   "metadata": {},
   "outputs": [],
   "source": [
    "b.sort()\n",
    "b"
   ]
  },
  {
   "cell_type": "code",
   "execution_count": null,
   "id": "b4d8398a",
   "metadata": {},
   "outputs": [],
   "source": [
    "b.append('green')\n",
    "b.append('green')\n",
    "b"
   ]
  },
  {
   "cell_type": "code",
   "execution_count": null,
   "id": "3a364c0d",
   "metadata": {},
   "outputs": [],
   "source": [
    "b.reverse()\n",
    "b"
   ]
  },
  {
   "cell_type": "code",
   "execution_count": null,
   "id": "f080d7f8",
   "metadata": {},
   "outputs": [],
   "source": [
    "b.count('green')"
   ]
  },
  {
   "cell_type": "markdown",
   "id": "703153dc",
   "metadata": {},
   "source": [
    "Other list methods can be found here [here](https://www.w3schools.com/python/python_lists_methods.asp). Our intro has not been comprehensive. For example, list comprehensions are important but we haven't looked at them."
   ]
  },
  {
   "cell_type": "markdown",
   "id": "c341ee52",
   "metadata": {},
   "source": [
    "## 2 Iteration (over a list)"
   ]
  },
  {
   "cell_type": "markdown",
   "id": "f2c2a767",
   "metadata": {},
   "source": [
    "The typical point of having items in a list is to systematically move through them.  This kind of process is referred to as *iteration*.\n",
    "\n",
    "Let's look at one way of iterating through a list--with a `for` loop."
   ]
  },
  {
   "cell_type": "code",
   "execution_count": null,
   "id": "6751fb3b",
   "metadata": {},
   "outputs": [],
   "source": [
    "list_1 = ['eenie', 'meenie', 'miney', 'mo']"
   ]
  },
  {
   "cell_type": "markdown",
   "id": "7c2f6480",
   "metadata": {},
   "source": [
    "We can print these out in succession using a `for` loop."
   ]
  },
  {
   "cell_type": "code",
   "execution_count": null,
   "id": "c6b91595",
   "metadata": {},
   "outputs": [],
   "source": [
    "for i in list_1:\n",
    "    print(i)"
   ]
  },
  {
   "cell_type": "markdown",
   "id": "4a3cf4a5",
   "metadata": {},
   "source": [
    "`i` is commonly used in these situations, but it's not special."
   ]
  },
  {
   "cell_type": "code",
   "execution_count": null,
   "id": "76b501d7",
   "metadata": {},
   "outputs": [],
   "source": [
    "for jill in list_1:\n",
    "    print(jill)"
   ]
  },
  {
   "cell_type": "markdown",
   "id": "8bdde95a",
   "metadata": {},
   "source": [
    "The colon is essential, as is the indentation of the lines in the scope of the `for` statement.  In this case, that's just the print statement.  "
   ]
  },
  {
   "cell_type": "markdown",
   "id": "65de9989",
   "metadata": {},
   "source": [
    "### Spot the errors (if any)"
   ]
  },
  {
   "cell_type": "code",
   "execution_count": null,
   "id": "b4d0684f",
   "metadata": {},
   "outputs": [],
   "source": [
    "list_2 = ['mary', 'mary', 'quite', 'contrary', 'how', 'does', 'your', 'garden', 'grow']"
   ]
  },
  {
   "cell_type": "code",
   "execution_count": null,
   "id": "d39b04ef",
   "metadata": {},
   "outputs": [],
   "source": [
    "for bob in list_2\n",
    "    print(bob)"
   ]
  },
  {
   "cell_type": "code",
   "execution_count": null,
   "id": "21ba8dfa",
   "metadata": {},
   "outputs": [],
   "source": [
    "for bob in list_2:\n",
    "print(bob)"
   ]
  },
  {
   "cell_type": "code",
   "execution_count": null,
   "id": "6dbf0037",
   "metadata": {},
   "outputs": [],
   "source": [
    "for jill in list_2:\n",
    "    print(jill)"
   ]
  },
  {
   "cell_type": "code",
   "execution_count": null,
   "id": "97333b7c",
   "metadata": {},
   "outputs": [],
   "source": [
    "for jill in list_2:\n",
    "    print(j)"
   ]
  },
  {
   "cell_type": "markdown",
   "id": "7d9b7cd8",
   "metadata": {},
   "source": [
    "## 3. Examples"
   ]
  },
  {
   "cell_type": "code",
   "execution_count": null,
   "id": "d06a48bf",
   "metadata": {},
   "outputs": [],
   "source": [
    "%%py5draw 200 200\n",
    "\n",
    "colors = [color(255,0,0),color(0,0,255),color(0,255,0),color(255,255,0),color(255,0,255),color(0,255,255)]\n",
    "\n",
    "\n",
    "for i in [25,50,75,100,125,150]:\n",
    "    fill(colors[int(i/25-1)]) #This is a weird formula for color\n",
    "    rect(i,i,25,25)"
   ]
  },
  {
   "cell_type": "code",
   "execution_count": null,
   "id": "9de145ff",
   "metadata": {},
   "outputs": [],
   "source": [
    "%%py5draw 200 200\n",
    "\n",
    "colors = [color(255,0,0),color(255,255,255),color(0,0,255)]\n",
    "\n",
    "\n",
    "for i in [0,1,2,3,4,5,6,7,8,9,10,11,12,13,14,15]:\n",
    "    fill(colors[i%3])   # this is better\n",
    "    rect(i*12,i*12,20,20)  # the cost here isn't too bad"
   ]
  },
  {
   "cell_type": "code",
   "execution_count": null,
   "id": "61a9c307",
   "metadata": {},
   "outputs": [],
   "source": [
    "%%py5draw 200 200\n",
    "\n",
    "background(150,250,250)\n",
    "#stroke(255,0,0)\n",
    "stroke_weight(.4)\n",
    "\n",
    "for i in range(51):\n",
    "    line(0,100,100,i*4)\n",
    "    # line(200,100,100,i*4)\n",
    "    # line(100,0,i*4,100)\n",
    "    # line(100,200,i*4,100)"
   ]
  },
  {
   "cell_type": "markdown",
   "id": "645c8098",
   "metadata": {},
   "source": [
    "## 4. You try it"
   ]
  },
  {
   "cell_type": "code",
   "execution_count": null,
   "id": "618dacbf",
   "metadata": {},
   "outputs": [],
   "source": [
    "%%py5draw 200 200\n",
    "\n",
    "background(150,250,250)\n",
    "stroke_weight(.4)\n",
    "\n",
    "for i in range(0,205,5):\n",
    "    line(0,i,i+5,200)"
   ]
  },
  {
   "attachments": {
    "string%20art.png": {
     "image/png": "[encoded data removed]"
    }
   },
   "cell_type": "markdown",
   "id": "366a5e4f",
   "metadata": {},
   "source": [
    "Adapt the code above to make this:\n",
    "\n",
    "![string%20art.png](attachment:string%20art.png)\n",
    "\n",
    "Then upload a pdf of this notebook to Canvas."
   ]
  },
  {
   "cell_type": "code",
   "execution_count": null,
   "id": "8e0b69de",
   "metadata": {},
   "outputs": [],
   "source": []
  }
 ],
 "metadata": {
  "kernelspec": {
   "display_name": "py5",
   "language": "python",
   "name": "py5"
  },
  "language_info": {
   "codemirror_mode": {
    "name": "ipython",
    "version": 3
   },
   "file_extension": ".py",
   "mimetype": "text/x-python",
   "name": "python",
   "nbconvert_exporter": "python",
   "pygments_lexer": "ipython3",
   "version": "3.8.10"
  }
 },
 "nbformat": 4,
 "nbformat_minor": 5
}
